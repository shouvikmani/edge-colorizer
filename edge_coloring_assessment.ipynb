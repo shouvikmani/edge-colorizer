{
 "cells": [
  {
   "cell_type": "markdown",
   "metadata": {},
   "source": [
    "## Edge Coloring Assessment"
   ]
  },
  {
   "cell_type": "code",
   "execution_count": 1,
   "metadata": {},
   "outputs": [],
   "source": [
    "import glob\n",
    "import json\n",
    "import random\n",
    "import numpy as np\n",
    "import pandas as pd\n",
    "from PIL import Image\n",
    "import matplotlib.pyplot as plt\n",
    "%matplotlib inline\n",
    "from skimage.filters import sobel_h, sobel_v, gaussian"
   ]
  },
  {
   "cell_type": "markdown",
   "metadata": {},
   "source": [
    "Functions to detect and color edges."
   ]
  },
  {
   "cell_type": "code",
   "execution_count": 2,
   "metadata": {},
   "outputs": [],
   "source": [
    "def edge_detection(img):\n",
    "    \"\"\"Returns the magnitude and direction of the edges in img\"\"\"\n",
    "    \n",
    "    img_gradient_x = sobel_v(img)\n",
    "    img_gradient_y = sobel_h(img)\n",
    "    img_gradient_magnitude = ((img_gradient_x ** 2) + (img_gradient_y ** 2)) ** (1/2)\n",
    "    img_gradient_direction = np.arctan2(img_gradient_x, img_gradient_y)\n",
    "    return img_gradient_x, img_gradient_y, img_gradient_magnitude, img_gradient_direction\n",
    "\n",
    "def edge_color(img_edge_magnitude, img_edge_direction, cmap):\n",
    "    \"\"\"Colors the edges of the image using their direction and a colormap.\"\"\"\n",
    "    \n",
    "    img_shape = img_edge_magnitude.shape\n",
    "    img_edge_direction = img_edge_direction + abs(img_edge_direction.min())\n",
    "    img_edge_direction_max = img_edge_direction.max()\n",
    "    color_range = plt.cm.get_cmap(cmap)\n",
    "    black_pixel = np.array([0, 0, 0])\n",
    "    result = np.zeros((img_shape[0], img_shape[1], 3))\n",
    "    for i in range(img_shape[0]):\n",
    "        for j in range(img_shape[1]):\n",
    "            if img_edge_magnitude[i, j] == 1:\n",
    "                # if edge is present, select a color based on the edge direction\n",
    "                color_index = img_edge_direction[i, j] / img_edge_direction_max\n",
    "                result[i, j] = color_range(color_index)[:3]\n",
    "            else:   # if edge is not present, just add a black pixel\n",
    "                result[i, j] = black_pixel\n",
    "    return result"
   ]
  },
  {
   "cell_type": "markdown",
   "metadata": {},
   "source": [
    "### Edge Detection"
   ]
  },
  {
   "cell_type": "code",
   "execution_count": 3,
   "metadata": {},
   "outputs": [],
   "source": [
    "sigma = 1\n",
    "threshold = 0.1\n",
    "\n",
    "filenames = glob.glob('experiments/original/*')\n",
    "for filename in filenames:\n",
    "    img = Image.open(filename)\n",
    "    img = img.convert(\"L\")   # convert to grayscale\n",
    "    img = np.array(img)\n",
    "    img = img/255\n",
    "    img_blurred = gaussian(img, sigma)\n",
    "    img_gradient_x, img_gradient_y, img_edge_magnitude, img_edge_direction = edge_detection(img_blurred)\n",
    "    img_edge_magnitude_thresholded = (img_edge_magnitude > threshold)\n",
    "    img_edge_magnitude = Image.fromarray((img_edge_magnitude_thresholded * 255).astype('uint8'))\n",
    "    img_edge_magnitude.save('experiments/edges_magnitude/{}.jpg'.format(filename[21:-4]))"
   ]
  },
  {
   "cell_type": "markdown",
   "metadata": {},
   "source": [
    "### Edge Coloring"
   ]
  },
  {
   "cell_type": "code",
   "execution_count": 5,
   "metadata": {
    "scrolled": true
   },
   "outputs": [
    {
     "name": "stdout",
     "output_type": "stream",
     "text": [
      "Edge coloring 1 out of 100 files\n",
      "Edge coloring 2 out of 100 files\n",
      "Edge coloring 3 out of 100 files\n",
      "Edge coloring 4 out of 100 files\n",
      "Edge coloring 5 out of 100 files\n",
      "Edge coloring 6 out of 100 files\n",
      "Edge coloring 7 out of 100 files\n",
      "Edge coloring 8 out of 100 files\n",
      "Edge coloring 9 out of 100 files\n",
      "Edge coloring 10 out of 100 files\n",
      "Edge coloring 11 out of 100 files\n",
      "Edge coloring 12 out of 100 files\n",
      "Edge coloring 13 out of 100 files\n",
      "Edge coloring 14 out of 100 files\n",
      "Edge coloring 15 out of 100 files\n",
      "Edge coloring 16 out of 100 files\n",
      "Edge coloring 17 out of 100 files\n",
      "Edge coloring 18 out of 100 files\n",
      "Edge coloring 19 out of 100 files\n",
      "Edge coloring 20 out of 100 files\n",
      "Edge coloring 21 out of 100 files\n",
      "Edge coloring 22 out of 100 files\n",
      "Edge coloring 23 out of 100 files\n",
      "Edge coloring 24 out of 100 files\n",
      "Edge coloring 25 out of 100 files\n",
      "Edge coloring 26 out of 100 files\n",
      "Edge coloring 27 out of 100 files\n",
      "Edge coloring 28 out of 100 files\n",
      "Edge coloring 29 out of 100 files\n",
      "Edge coloring 30 out of 100 files\n",
      "Edge coloring 31 out of 100 files\n",
      "Edge coloring 32 out of 100 files\n",
      "Edge coloring 33 out of 100 files\n",
      "Edge coloring 34 out of 100 files\n",
      "Edge coloring 35 out of 100 files\n",
      "Edge coloring 36 out of 100 files\n",
      "Edge coloring 37 out of 100 files\n",
      "Edge coloring 38 out of 100 files\n",
      "Edge coloring 39 out of 100 files\n",
      "Edge coloring 40 out of 100 files\n",
      "Edge coloring 41 out of 100 files\n",
      "Edge coloring 42 out of 100 files\n",
      "Edge coloring 43 out of 100 files\n",
      "Edge coloring 44 out of 100 files\n",
      "Edge coloring 45 out of 100 files\n",
      "Edge coloring 46 out of 100 files\n",
      "Edge coloring 47 out of 100 files\n",
      "Edge coloring 48 out of 100 files\n",
      "Edge coloring 49 out of 100 files\n",
      "Edge coloring 50 out of 100 files\n",
      "Edge coloring 51 out of 100 files\n",
      "Edge coloring 52 out of 100 files\n",
      "Edge coloring 53 out of 100 files\n",
      "Edge coloring 54 out of 100 files\n",
      "Edge coloring 55 out of 100 files\n",
      "Edge coloring 56 out of 100 files\n",
      "Edge coloring 57 out of 100 files\n",
      "Edge coloring 58 out of 100 files\n",
      "Edge coloring 59 out of 100 files\n",
      "Edge coloring 60 out of 100 files\n",
      "Edge coloring 61 out of 100 files\n",
      "Edge coloring 62 out of 100 files\n",
      "Edge coloring 63 out of 100 files\n",
      "Edge coloring 64 out of 100 files\n",
      "Edge coloring 65 out of 100 files\n",
      "Edge coloring 66 out of 100 files\n",
      "Edge coloring 67 out of 100 files\n",
      "Edge coloring 68 out of 100 files\n",
      "Edge coloring 69 out of 100 files\n",
      "Edge coloring 70 out of 100 files\n",
      "Edge coloring 71 out of 100 files\n",
      "Edge coloring 72 out of 100 files\n",
      "Edge coloring 73 out of 100 files\n",
      "Edge coloring 74 out of 100 files\n",
      "Edge coloring 75 out of 100 files\n",
      "Edge coloring 76 out of 100 files\n",
      "Edge coloring 77 out of 100 files\n",
      "Edge coloring 78 out of 100 files\n",
      "Edge coloring 79 out of 100 files\n",
      "Edge coloring 80 out of 100 files\n",
      "Edge coloring 81 out of 100 files\n",
      "Edge coloring 82 out of 100 files\n",
      "Edge coloring 83 out of 100 files\n",
      "Edge coloring 84 out of 100 files\n",
      "Edge coloring 85 out of 100 files\n",
      "Edge coloring 86 out of 100 files\n",
      "Edge coloring 87 out of 100 files\n",
      "Edge coloring 88 out of 100 files\n",
      "Edge coloring 89 out of 100 files\n",
      "Edge coloring 90 out of 100 files\n",
      "Edge coloring 91 out of 100 files\n",
      "Edge coloring 92 out of 100 files\n",
      "Edge coloring 93 out of 100 files\n",
      "Edge coloring 94 out of 100 files\n",
      "Edge coloring 95 out of 100 files\n",
      "Edge coloring 96 out of 100 files\n",
      "Edge coloring 97 out of 100 files\n",
      "Edge coloring 98 out of 100 files\n",
      "Edge coloring 99 out of 100 files\n",
      "Edge coloring 100 out of 100 files\n"
     ]
    }
   ],
   "source": [
    "cmaps = {}\n",
    "cmaps['sequential'] = ['viridis', 'plasma', 'inferno', 'magma', 'cividis',\n",
    "                       'Greys', 'Purples', 'Blues', 'Greens', 'Oranges', 'Reds',\n",
    "                       'YlOrBr', 'YlOrRd', 'OrRd', 'PuRd', 'RdPu', 'BuPu',\n",
    "                       'GnBu', 'PuBu', 'YlGnBu', 'PuBuGn', 'BuGn', 'YlGn']\n",
    "cmaps['diverging'] = ['PiYG', 'PRGn', 'BrBG', 'PuOr', 'RdGy', 'RdBu',\n",
    "                      'RdYlBu', 'RdYlGn', 'Spectral', 'coolwarm', 'bwr', 'seismic']\n",
    "cmaps['cyclic'] = ['twilight', 'twilight_shifted', 'hsv']\n",
    "cmaps['qualitative'] = ['Pastel1', 'Pastel2', 'Paired', 'Accent',\n",
    "                        'Dark2', 'Set1', 'Set2', 'Set3',\n",
    "                        'tab10', 'tab20', 'tab20b', 'tab20c']\n",
    "\n",
    "sigma = 1\n",
    "threshold = 0.1\n",
    "random.seed(0)\n",
    "filenames = glob.glob('experiments/original/*')\n",
    "for i, filename in enumerate(filenames):\n",
    "    print(\"Edge coloring {} out of {} files\".format(i+1, len(filenames)))\n",
    "    img = Image.open(filename)\n",
    "    img = img.convert(\"L\")   # convert to grayscale\n",
    "    img = np.array(img)\n",
    "    img = img/255\n",
    "    img_blurred = gaussian(img, sigma)\n",
    "    img_gradient_x, img_gradient_y, img_edge_magnitude, img_edge_direction = edge_detection(img_blurred)\n",
    "    img_edge_magnitude_thresholded = (img_edge_magnitude > threshold)\n",
    "    img_edge_magnitude = Image.fromarray((img_edge_magnitude_thresholded * 255).astype('uint8'))\n",
    "    for cmap_type, cmap_names in cmaps.items():\n",
    "        cmap = random.choice(cmap_names)\n",
    "        img_edge_colored = edge_color(img_edge_magnitude_thresholded, img_edge_direction, cmap)\n",
    "        img_edge_colored = Image.fromarray((img_edge_colored * 255).astype('uint8'))\n",
    "        img_edge_colored.save('experiments/edges_colored/{}/{}.jpg'.format(cmap_type, filename[21:-4]))"
   ]
  },
  {
   "cell_type": "markdown",
   "metadata": {},
   "source": [
    "### Neural Image Assessment (NIMA) Evaluation"
   ]
  },
  {
   "cell_type": "code",
   "execution_count": 6,
   "metadata": {},
   "outputs": [
    {
     "name": "stdout",
     "output_type": "stream",
     "text": [
      "/Users/shouvikmani/Documents/edge-colorizer/image-quality-assessment\n",
      "CONTRIBUTING.md README.md       \u001b[34mentrypoints\u001b[m\u001b[m     \u001b[31mpredict\u001b[m\u001b[m\r\n",
      "Dockerfile.cpu  \u001b[34m_readme\u001b[m\u001b[m         \u001b[34mexperiments\u001b[m\u001b[m     \u001b[34msrc\u001b[m\u001b[m\r\n",
      "Dockerfile.gpu  \u001b[34mcontrib\u001b[m\u001b[m         \u001b[34mmkdocs\u001b[m\u001b[m          \u001b[31mtrain-ec2\u001b[m\u001b[m\r\n",
      "LICENSE         \u001b[34mdata\u001b[m\u001b[m            \u001b[34mmodels\u001b[m\u001b[m          \u001b[31mtrain-local\u001b[m\u001b[m\r\n"
     ]
    }
   ],
   "source": [
    "%cd image-quality-assessment\n",
    "!ls"
   ]
  },
  {
   "cell_type": "code",
   "execution_count": 7,
   "metadata": {
    "scrolled": false
   },
   "outputs": [
    {
     "name": "stdout",
     "output_type": "stream",
     "text": [
      "Mean NIMA aesthetic score, black & white edges: 5.2768248715625745\n"
     ]
    }
   ],
   "source": [
    "nima_aesthetic_scores = !./predict  --docker-image nima-cpu --base-model-name MobileNet --weights-file $(pwd)/models/MobileNet/weights_mobilenet_aesthetic_0.07.hdf5 --image-source $(pwd)/../experiments/edges_magnitude\n",
    "nima_aesthetic_scores = ''.join(nima_aesthetic_scores[11:])\n",
    "nima_aesthetic_scores = json.loads(nima_aesthetic_scores)\n",
    "nima_aesthetic_scores_df = pd.DataFrame(nima_aesthetic_scores)\n",
    "mean_nima_aesthetic_score = nima_aesthetic_scores_df['mean_score_prediction'].mean()\n",
    "print(\"Mean NIMA aesthetic score, black & white edges:\", mean_nima_aesthetic_score)"
   ]
  },
  {
   "cell_type": "code",
   "execution_count": 50,
   "metadata": {},
   "outputs": [
    {
     "name": "stdout",
     "output_type": "stream",
     "text": [
      "Mean NIMA aesthetic score, colored edges (sequential color map): 5.2434288593710106\n",
      "Mean NIMA aesthetic score, colored edges (diverging color map): 5.237948914232568\n",
      "Mean NIMA aesthetic score, colored edges (cyclic color map): 5.266123633883767\n",
      "Mean NIMA aesthetic score, colored edges (qualitative color map): 5.242835082153793\n"
     ]
    }
   ],
   "source": [
    "for cmap_type in cmaps:\n",
    "    nima_aesthetic_scores = !./predict  --docker-image nima-cpu --base-model-name MobileNet --weights-file $(pwd)/models/MobileNet/weights_mobilenet_aesthetic_0.07.hdf5 --image-source $(pwd)/../experiments/edges_colored/{cmap_type}\n",
    "    nima_aesthetic_scores = ''.join(nima_aesthetic_scores[11:])\n",
    "    nima_aesthetic_scores = json.loads(nima_aesthetic_scores)\n",
    "    nima_aesthetic_scores_df = pd.DataFrame(nima_aesthetic_scores)\n",
    "    mean_nima_aesthetic_score = nima_aesthetic_scores_df['mean_score_prediction'].mean()\n",
    "    print(\"Mean NIMA aesthetic score, colored edges ({} color map):\".format(cmap_type), mean_nima_aesthetic_score)"
   ]
  },
  {
   "cell_type": "code",
   "execution_count": 8,
   "metadata": {
    "scrolled": false
   },
   "outputs": [
    {
     "name": "stdout",
     "output_type": "stream",
     "text": [
      "Mean NIMA technical score, black & white edges: 4.49039006665349\n"
     ]
    }
   ],
   "source": [
    "nima_technical_scores = !./predict  --docker-image nima-cpu --base-model-name MobileNet --weights-file $(pwd)/models/MobileNet/weights_mobilenet_technical_0.11.hdf5 --image-source $(pwd)/../experiments/edges_magnitude\n",
    "nima_technical_scores = ''.join(nima_technical_scores[11:])\n",
    "nima_technical_scores = json.loads(nima_technical_scores)\n",
    "nima_technical_scores_df = pd.DataFrame(nima_technical_scores)\n",
    "mean_nima_technical_score = nima_technical_scores_df['mean_score_prediction'].mean()\n",
    "print(\"Mean NIMA technical score, black & white edges:\", mean_nima_technical_score)"
   ]
  },
  {
   "cell_type": "code",
   "execution_count": 59,
   "metadata": {},
   "outputs": [
    {
     "name": "stdout",
     "output_type": "stream",
     "text": [
      "Mean NIMA technical score, colored edges (sequential color map): 4.614252245128155\n",
      "Mean NIMA technical score, colored edges (diverging color map): 4.665977361239493\n",
      "Mean NIMA technical score, colored edges (cyclic color map): 4.655434283129871\n",
      "Mean NIMA technical score, colored edges (qualitative color map): 4.660255505368114\n"
     ]
    }
   ],
   "source": [
    "for cmap_type in cmaps:\n",
    "    nima_technical_scores = !./predict  --docker-image nima-cpu --base-model-name MobileNet --weights-file $(pwd)/models/MobileNet/weights_mobilenet_technical_0.11.hdf5 --image-source $(pwd)/../experiments/edges_colored/{cmap_type}\n",
    "    nima_technical_scores = ''.join(nima_technical_scores[11:])\n",
    "    nima_technical_scores = json.loads(nima_technical_scores)\n",
    "    nima_technical_scores_df = pd.DataFrame(nima_technical_scores)\n",
    "    mean_nima_technical_score = nima_technical_scores_df['mean_score_prediction'].mean()\n",
    "    print(\"Mean NIMA technical score, colored edges ({} color map):\".format(cmap_type), mean_nima_technical_score)"
   ]
  },
  {
   "cell_type": "code",
   "execution_count": null,
   "metadata": {},
   "outputs": [],
   "source": []
  }
 ],
 "metadata": {
  "kernelspec": {
   "display_name": "Python 3",
   "language": "python",
   "name": "base"
  },
  "language_info": {
   "codemirror_mode": {
    "name": "ipython",
    "version": 3
   },
   "file_extension": ".py",
   "mimetype": "text/x-python",
   "name": "python",
   "nbconvert_exporter": "python",
   "pygments_lexer": "ipython3",
   "version": "3.6.8"
  }
 },
 "nbformat": 4,
 "nbformat_minor": 2
}
